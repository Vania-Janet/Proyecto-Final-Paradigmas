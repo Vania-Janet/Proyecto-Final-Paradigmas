{
  "cells": [
    {
      "cell_type": "markdown",
      "metadata": {
        "id": "2AvPrx1zMVK8"
      },
      "source": [
        "### Integrantes\n",
        "- Alanis Gonzalez Sebastian\n",
        "- Raya Ríos Vania Janet\n",
        "- Martínez Jiménez Israel\n",
        "- Fonseca González Bruno"
      ]
    },
    {
      "cell_type": "markdown",
      "metadata": {
        "id": "uDFvkeTOiwuv"
      },
      "source": [
        "# Proyecto Final Paradigmas y Programación\n",
        "\n",
        "**Definición del proyecto:**\n",
        "\n",
        "Dado un conjunto de reseñas que el usuario escriba sobre peliculas especificas, identificar cuales reseñas son positivas y cuales negativas usando:\n",
        "\n",
        "\n",
        "*   Clasificador Bayesiano Multinomial\n",
        "*   Regresión Logistica\n",
        "\n",
        "Posteriormente, se recomendarán peliculas en base a las reseñas que los modelos hayan clasificado como positivas usando kNN Vecinos con la métrica de Coseno (usamos coseno ya que como vamos a analizar overview, genres y keywords, entonces las películas con descripciones textuales similares tendrán vectores con *direcciones similares*, incluso si uno tiene más palabras clave).\n",
        "\n",
        "**Objetivo:**\n",
        "\n",
        "Combinar análisis de sentimientos y recomendaciones de películas para crear un sistema que pueda personalizar las sugerencias según las preferencias del usuario.\n",
        "\n"
      ]
    },
    {
      "cell_type": "markdown",
      "metadata": {
        "id": "vHYSXixZscPV"
      },
      "source": [
        "# Preprocesamiento"
      ]
    },
    {
      "cell_type": "code",
      "execution_count": 46,
      "metadata": {
        "id": "mjwDU5XzlUqm"
      },
      "outputs": [],
      "source": [
        "import pandas as pd\n",
        "from collections import Counter\n",
        "from sklearn.feature_extraction.text import CountVectorizer\n",
        "from sklearn.model_selection import train_test_split\n",
        "from sklearn.metrics import classification_report, accuracy_score, f1_score, precision_score, recall_score\n",
        "import re\n",
        "import numpy as np"
      ]
    },
    {
      "cell_type": "code",
      "execution_count": null,
      "metadata": {
        "id": "oTtuAyRWqf4n"
      },
      "outputs": [],
      "source": [
        "### Buenas practicas\n",
        "\n",
        "# En caso de que clases no esten balanceadas\n",
        "# from sklearn.model_selection import cross_val_score\n",
        "# from sklearn.model_selection import StratifiedKFold\n",
        "\n",
        "from sklearn.model_selection import GridSearchCV # Buscar el mejor parámetro\n",
        "from sklearn.model_selection import learning_curve # Problemas de sobreajuste o subajuste\n",
        "import matplotlib.pyplot as plt\n",
        "from sklearn.metrics import classification_report # Métricas\n",
        "from sklearn.pipeline import Pipeline # Automatizamos con pipelines"
      ]
    },
    {
      "cell_type": "markdown",
      "metadata": {
        "id": "BdessHzalyGM"
      },
      "source": [
        "Además del dataset movies.csv, primero usaremos el dataset IMDBDataset.csv para entrenar a los modelos y el cual contiene 50,000 reseñas de películas clasificadas en negativas o positivas."
      ]
    },
    {
      "cell_type": "code",
      "execution_count": null,
      "metadata": {
        "colab": {
          "base_uri": "https://localhost:8080/",
          "height": 201
        },
        "id": "VYJTb53LpphM",
        "outputId": "8a574012-9490-4ed4-ce08-2289dcf367ce"
      },
      "outputs": [
        {
          "data": {
            "application/vnd.google.colaboratory.intrinsic+json": {
              "summary": "{\n  \"name\": \"reviews_positive_negative\",\n  \"rows\": 50004,\n  \"fields\": [\n    {\n      \"column\": \"review\",\n      \"properties\": {\n        \"dtype\": \"string\",\n        \"num_unique_values\": 49586,\n        \"samples\": [\n          \"Personally, while I'm able to appreciate really good movies, I also have a strange ability to somewhat enjoy even the most crappiest of crap. You know, those times when you just want to sit there and watch some horrible cookie-cutter action movie to kill time. This is the only movie that I can remember actually shutting off in the middle, and I have absolutely NO intention of going back to finish it. The plot was so contrived and predictable, I was calling out what the next scene would be easily (and I'm usually not very good at this). The actors were horrible, I've seen better acting in middle school plays. Even the scene cuts were bad, the flow was all wrong.<br /><br />This movie is like a parody that forgot the funny.\",\n          \"Let's see, here are the \\\"highlights\\\" of The Brain Machine: 15 establishing shots of a pool and a house; 15 establishing shots of a nondescript office building; 5 countdowns by a bland technician; 7 close-ups of a menacing guard; and a myriad of technical babble to show us this is a high-tech experiment.<br /><br />Various posters have commented on the discrepancy between the copyright date of 1972 and the release date given on the DVD box of 1977. That's an easy one to explain. This dog simply sat on the shelf unreleased for five years, until someone dusted it off, thinking it fit in perfectly with the post-Watergate mood of distrust in government. After seeing The Brain Machine now, my only wonder is that it ever got released at all!\",\n          \"I need help identifying an episode of King of Queens. It begins with a scene where Doug is talking to Carrie on the phone, and he suggests that they agree to stop ending every conversation with \\\"I love you.\\\" However, it's hard to do and he ends up calling her back, only to close with \\\"I love you.\\\" It's a very clever moment and one I think says a lot about relationships that have lasted a long time.<br /><br />I THINK (but I'm sure) that's it's the same episode where Doug gets some local construction guys to whistle and throw lurid comments at Carrie to perk her spirits up.<br /><br />I saw this episode recently, but it was probably a repeat. Don't know what network I saw it on. Can anyone tell me the title and season of this episode?\"\n        ],\n        \"semantic_type\": \"\",\n        \"description\": \"\"\n      }\n    },\n    {\n      \"column\": \"sentiment\",\n      \"properties\": {\n        \"dtype\": \"category\",\n        \"num_unique_values\": 2,\n        \"samples\": [\n          \"negative\",\n          \"positive\"\n        ],\n        \"semantic_type\": \"\",\n        \"description\": \"\"\n      }\n    }\n  ]\n}",
              "type": "dataframe",
              "variable_name": "reviews_positive_negative"
            },
            "text/html": [
              "\n",
              "  <div id=\"df-db18bfd5-93b6-4bef-8ac4-7345542b1872\" class=\"colab-df-container\">\n",
              "    <div>\n",
              "<style scoped>\n",
              "    .dataframe tbody tr th:only-of-type {\n",
              "        vertical-align: middle;\n",
              "    }\n",
              "\n",
              "    .dataframe tbody tr th {\n",
              "        vertical-align: top;\n",
              "    }\n",
              "\n",
              "    .dataframe thead th {\n",
              "        text-align: right;\n",
              "    }\n",
              "</style>\n",
              "<table border=\"1\" class=\"dataframe\">\n",
              "  <thead>\n",
              "    <tr style=\"text-align: right;\">\n",
              "      <th></th>\n",
              "      <th>review</th>\n",
              "      <th>sentiment</th>\n",
              "    </tr>\n",
              "  </thead>\n",
              "  <tbody>\n",
              "    <tr>\n",
              "      <th>0</th>\n",
              "      <td>One of the other reviewers has mentioned that ...</td>\n",
              "      <td>positive</td>\n",
              "    </tr>\n",
              "    <tr>\n",
              "      <th>1</th>\n",
              "      <td>A wonderful little production. &lt;br /&gt;&lt;br /&gt;The...</td>\n",
              "      <td>positive</td>\n",
              "    </tr>\n",
              "    <tr>\n",
              "      <th>2</th>\n",
              "      <td>I thought this was a wonderful way to spend ti...</td>\n",
              "      <td>positive</td>\n",
              "    </tr>\n",
              "    <tr>\n",
              "      <th>3</th>\n",
              "      <td>Basically there's a family where a little boy ...</td>\n",
              "      <td>negative</td>\n",
              "    </tr>\n",
              "    <tr>\n",
              "      <th>4</th>\n",
              "      <td>Petter Mattei's \"Love in the Time of Money\" is...</td>\n",
              "      <td>positive</td>\n",
              "    </tr>\n",
              "  </tbody>\n",
              "</table>\n",
              "</div>\n",
              "    <div class=\"colab-df-buttons\">\n",
              "\n",
              "  <div class=\"colab-df-container\">\n",
              "    <button class=\"colab-df-convert\" onclick=\"convertToInteractive('df-db18bfd5-93b6-4bef-8ac4-7345542b1872')\"\n",
              "            title=\"Convert this dataframe to an interactive table.\"\n",
              "            style=\"display:none;\">\n",
              "\n",
              "  <svg xmlns=\"http://www.w3.org/2000/svg\" height=\"24px\" viewBox=\"0 -960 960 960\">\n",
              "    <path d=\"M120-120v-720h720v720H120Zm60-500h600v-160H180v160Zm220 220h160v-160H400v160Zm0 220h160v-160H400v160ZM180-400h160v-160H180v160Zm440 0h160v-160H620v160ZM180-180h160v-160H180v160Zm440 0h160v-160H620v160Z\"/>\n",
              "  </svg>\n",
              "    </button>\n",
              "\n",
              "  <style>\n",
              "    .colab-df-container {\n",
              "      display:flex;\n",
              "      gap: 12px;\n",
              "    }\n",
              "\n",
              "    .colab-df-convert {\n",
              "      background-color: #E8F0FE;\n",
              "      border: none;\n",
              "      border-radius: 50%;\n",
              "      cursor: pointer;\n",
              "      display: none;\n",
              "      fill: #1967D2;\n",
              "      height: 32px;\n",
              "      padding: 0 0 0 0;\n",
              "      width: 32px;\n",
              "    }\n",
              "\n",
              "    .colab-df-convert:hover {\n",
              "      background-color: #E2EBFA;\n",
              "      box-shadow: 0px 1px 2px rgba(60, 64, 67, 0.3), 0px 1px 3px 1px rgba(60, 64, 67, 0.15);\n",
              "      fill: #174EA6;\n",
              "    }\n",
              "\n",
              "    .colab-df-buttons div {\n",
              "      margin-bottom: 4px;\n",
              "    }\n",
              "\n",
              "    [theme=dark] .colab-df-convert {\n",
              "      background-color: #3B4455;\n",
              "      fill: #D2E3FC;\n",
              "    }\n",
              "\n",
              "    [theme=dark] .colab-df-convert:hover {\n",
              "      background-color: #434B5C;\n",
              "      box-shadow: 0px 1px 3px 1px rgba(0, 0, 0, 0.15);\n",
              "      filter: drop-shadow(0px 1px 2px rgba(0, 0, 0, 0.3));\n",
              "      fill: #FFFFFF;\n",
              "    }\n",
              "  </style>\n",
              "\n",
              "    <script>\n",
              "      const buttonEl =\n",
              "        document.querySelector('#df-db18bfd5-93b6-4bef-8ac4-7345542b1872 button.colab-df-convert');\n",
              "      buttonEl.style.display =\n",
              "        google.colab.kernel.accessAllowed ? 'block' : 'none';\n",
              "\n",
              "      async function convertToInteractive(key) {\n",
              "        const element = document.querySelector('#df-db18bfd5-93b6-4bef-8ac4-7345542b1872');\n",
              "        const dataTable =\n",
              "          await google.colab.kernel.invokeFunction('convertToInteractive',\n",
              "                                                    [key], {});\n",
              "        if (!dataTable) return;\n",
              "\n",
              "        const docLinkHtml = 'Like what you see? Visit the ' +\n",
              "          '<a target=\"_blank\" href=https://colab.research.google.com/notebooks/data_table.ipynb>data table notebook</a>'\n",
              "          + ' to learn more about interactive tables.';\n",
              "        element.innerHTML = '';\n",
              "        dataTable['output_type'] = 'display_data';\n",
              "        await google.colab.output.renderOutput(dataTable, element);\n",
              "        const docLink = document.createElement('div');\n",
              "        docLink.innerHTML = docLinkHtml;\n",
              "        element.appendChild(docLink);\n",
              "      }\n",
              "    </script>\n",
              "  </div>\n",
              "\n",
              "\n",
              "<div id=\"df-d805d6d7-e3bc-4f64-b536-6bdc91d91e96\">\n",
              "  <button class=\"colab-df-quickchart\" onclick=\"quickchart('df-d805d6d7-e3bc-4f64-b536-6bdc91d91e96')\"\n",
              "            title=\"Suggest charts\"\n",
              "            style=\"display:none;\">\n",
              "\n",
              "<svg xmlns=\"http://www.w3.org/2000/svg\" height=\"24px\"viewBox=\"0 0 24 24\"\n",
              "     width=\"24px\">\n",
              "    <g>\n",
              "        <path d=\"M19 3H5c-1.1 0-2 .9-2 2v14c0 1.1.9 2 2 2h14c1.1 0 2-.9 2-2V5c0-1.1-.9-2-2-2zM9 17H7v-7h2v7zm4 0h-2V7h2v10zm4 0h-2v-4h2v4z\"/>\n",
              "    </g>\n",
              "</svg>\n",
              "  </button>\n",
              "\n",
              "<style>\n",
              "  .colab-df-quickchart {\n",
              "      --bg-color: #E8F0FE;\n",
              "      --fill-color: #1967D2;\n",
              "      --hover-bg-color: #E2EBFA;\n",
              "      --hover-fill-color: #174EA6;\n",
              "      --disabled-fill-color: #AAA;\n",
              "      --disabled-bg-color: #DDD;\n",
              "  }\n",
              "\n",
              "  [theme=dark] .colab-df-quickchart {\n",
              "      --bg-color: #3B4455;\n",
              "      --fill-color: #D2E3FC;\n",
              "      --hover-bg-color: #434B5C;\n",
              "      --hover-fill-color: #FFFFFF;\n",
              "      --disabled-bg-color: #3B4455;\n",
              "      --disabled-fill-color: #666;\n",
              "  }\n",
              "\n",
              "  .colab-df-quickchart {\n",
              "    background-color: var(--bg-color);\n",
              "    border: none;\n",
              "    border-radius: 50%;\n",
              "    cursor: pointer;\n",
              "    display: none;\n",
              "    fill: var(--fill-color);\n",
              "    height: 32px;\n",
              "    padding: 0;\n",
              "    width: 32px;\n",
              "  }\n",
              "\n",
              "  .colab-df-quickchart:hover {\n",
              "    background-color: var(--hover-bg-color);\n",
              "    box-shadow: 0 1px 2px rgba(60, 64, 67, 0.3), 0 1px 3px 1px rgba(60, 64, 67, 0.15);\n",
              "    fill: var(--button-hover-fill-color);\n",
              "  }\n",
              "\n",
              "  .colab-df-quickchart-complete:disabled,\n",
              "  .colab-df-quickchart-complete:disabled:hover {\n",
              "    background-color: var(--disabled-bg-color);\n",
              "    fill: var(--disabled-fill-color);\n",
              "    box-shadow: none;\n",
              "  }\n",
              "\n",
              "  .colab-df-spinner {\n",
              "    border: 2px solid var(--fill-color);\n",
              "    border-color: transparent;\n",
              "    border-bottom-color: var(--fill-color);\n",
              "    animation:\n",
              "      spin 1s steps(1) infinite;\n",
              "  }\n",
              "\n",
              "  @keyframes spin {\n",
              "    0% {\n",
              "      border-color: transparent;\n",
              "      border-bottom-color: var(--fill-color);\n",
              "      border-left-color: var(--fill-color);\n",
              "    }\n",
              "    20% {\n",
              "      border-color: transparent;\n",
              "      border-left-color: var(--fill-color);\n",
              "      border-top-color: var(--fill-color);\n",
              "    }\n",
              "    30% {\n",
              "      border-color: transparent;\n",
              "      border-left-color: var(--fill-color);\n",
              "      border-top-color: var(--fill-color);\n",
              "      border-right-color: var(--fill-color);\n",
              "    }\n",
              "    40% {\n",
              "      border-color: transparent;\n",
              "      border-right-color: var(--fill-color);\n",
              "      border-top-color: var(--fill-color);\n",
              "    }\n",
              "    60% {\n",
              "      border-color: transparent;\n",
              "      border-right-color: var(--fill-color);\n",
              "    }\n",
              "    80% {\n",
              "      border-color: transparent;\n",
              "      border-right-color: var(--fill-color);\n",
              "      border-bottom-color: var(--fill-color);\n",
              "    }\n",
              "    90% {\n",
              "      border-color: transparent;\n",
              "      border-bottom-color: var(--fill-color);\n",
              "    }\n",
              "  }\n",
              "</style>\n",
              "\n",
              "  <script>\n",
              "    async function quickchart(key) {\n",
              "      const quickchartButtonEl =\n",
              "        document.querySelector('#' + key + ' button');\n",
              "      quickchartButtonEl.disabled = true;  // To prevent multiple clicks.\n",
              "      quickchartButtonEl.classList.add('colab-df-spinner');\n",
              "      try {\n",
              "        const charts = await google.colab.kernel.invokeFunction(\n",
              "            'suggestCharts', [key], {});\n",
              "      } catch (error) {\n",
              "        console.error('Error during call to suggestCharts:', error);\n",
              "      }\n",
              "      quickchartButtonEl.classList.remove('colab-df-spinner');\n",
              "      quickchartButtonEl.classList.add('colab-df-quickchart-complete');\n",
              "    }\n",
              "    (() => {\n",
              "      let quickchartButtonEl =\n",
              "        document.querySelector('#df-d805d6d7-e3bc-4f64-b536-6bdc91d91e96 button');\n",
              "      quickchartButtonEl.style.display =\n",
              "        google.colab.kernel.accessAllowed ? 'block' : 'none';\n",
              "    })();\n",
              "  </script>\n",
              "</div>\n",
              "\n",
              "    </div>\n",
              "  </div>\n"
            ],
            "text/plain": [
              "                                              review sentiment\n",
              "0  One of the other reviewers has mentioned that ...  positive\n",
              "1  A wonderful little production. <br /><br />The...  positive\n",
              "2  I thought this was a wonderful way to spend ti...  positive\n",
              "3  Basically there's a family where a little boy ...  negative\n",
              "4  Petter Mattei's \"Love in the Time of Money\" is...  positive"
            ]
          },
          "execution_count": 5,
          "metadata": {},
          "output_type": "execute_result"
        }
      ],
      "source": [
        "reviews_positive_negative = pd.read_csv('/content/IMDBDataset.csv')\n",
        "reviews_positive_negative.head()"
      ]
    },
    {
      "cell_type": "code",
      "execution_count": null,
      "metadata": {
        "colab": {
          "base_uri": "https://localhost:8080/",
          "height": 201
        },
        "id": "nDMYA8W_oiab",
        "outputId": "17c89af1-0ad2-4f3b-80af-e6a26a20b25d"
      },
      "outputs": [
        {
          "data": {
            "application/vnd.google.colaboratory.intrinsic+json": {
              "summary": "{\n  \"name\": \"reviews_positive_negative\",\n  \"rows\": 50004,\n  \"fields\": [\n    {\n      \"column\": \"review\",\n      \"properties\": {\n        \"dtype\": \"string\",\n        \"num_unique_values\": 49586,\n        \"samples\": [\n          \"Personally, while I'm able to appreciate really good movies, I also have a strange ability to somewhat enjoy even the most crappiest of crap. You know, those times when you just want to sit there and watch some horrible cookie-cutter action movie to kill time. This is the only movie that I can remember actually shutting off in the middle, and I have absolutely NO intention of going back to finish it. The plot was so contrived and predictable, I was calling out what the next scene would be easily (and I'm usually not very good at this). The actors were horrible, I've seen better acting in middle school plays. Even the scene cuts were bad, the flow was all wrong.<br /><br />This movie is like a parody that forgot the funny.\",\n          \"Let's see, here are the \\\"highlights\\\" of The Brain Machine: 15 establishing shots of a pool and a house; 15 establishing shots of a nondescript office building; 5 countdowns by a bland technician; 7 close-ups of a menacing guard; and a myriad of technical babble to show us this is a high-tech experiment.<br /><br />Various posters have commented on the discrepancy between the copyright date of 1972 and the release date given on the DVD box of 1977. That's an easy one to explain. This dog simply sat on the shelf unreleased for five years, until someone dusted it off, thinking it fit in perfectly with the post-Watergate mood of distrust in government. After seeing The Brain Machine now, my only wonder is that it ever got released at all!\",\n          \"I need help identifying an episode of King of Queens. It begins with a scene where Doug is talking to Carrie on the phone, and he suggests that they agree to stop ending every conversation with \\\"I love you.\\\" However, it's hard to do and he ends up calling her back, only to close with \\\"I love you.\\\" It's a very clever moment and one I think says a lot about relationships that have lasted a long time.<br /><br />I THINK (but I'm sure) that's it's the same episode where Doug gets some local construction guys to whistle and throw lurid comments at Carrie to perk her spirits up.<br /><br />I saw this episode recently, but it was probably a repeat. Don't know what network I saw it on. Can anyone tell me the title and season of this episode?\"\n        ],\n        \"semantic_type\": \"\",\n        \"description\": \"\"\n      }\n    },\n    {\n      \"column\": \"sentiment\",\n      \"properties\": {\n        \"dtype\": \"number\",\n        \"std\": 0,\n        \"min\": 0,\n        \"max\": 1,\n        \"num_unique_values\": 2,\n        \"samples\": [\n          1,\n          0\n        ],\n        \"semantic_type\": \"\",\n        \"description\": \"\"\n      }\n    }\n  ]\n}",
              "type": "dataframe",
              "variable_name": "reviews_positive_negative"
            },
            "text/html": [
              "\n",
              "  <div id=\"df-8c5e92b5-8bb8-473c-baf4-e5b2b54c992c\" class=\"colab-df-container\">\n",
              "    <div>\n",
              "<style scoped>\n",
              "    .dataframe tbody tr th:only-of-type {\n",
              "        vertical-align: middle;\n",
              "    }\n",
              "\n",
              "    .dataframe tbody tr th {\n",
              "        vertical-align: top;\n",
              "    }\n",
              "\n",
              "    .dataframe thead th {\n",
              "        text-align: right;\n",
              "    }\n",
              "</style>\n",
              "<table border=\"1\" class=\"dataframe\">\n",
              "  <thead>\n",
              "    <tr style=\"text-align: right;\">\n",
              "      <th></th>\n",
              "      <th>review</th>\n",
              "      <th>sentiment</th>\n",
              "    </tr>\n",
              "  </thead>\n",
              "  <tbody>\n",
              "    <tr>\n",
              "      <th>0</th>\n",
              "      <td>One of the other reviewers has mentioned that ...</td>\n",
              "      <td>0</td>\n",
              "    </tr>\n",
              "    <tr>\n",
              "      <th>1</th>\n",
              "      <td>A wonderful little production. &lt;br /&gt;&lt;br /&gt;The...</td>\n",
              "      <td>0</td>\n",
              "    </tr>\n",
              "    <tr>\n",
              "      <th>2</th>\n",
              "      <td>I thought this was a wonderful way to spend ti...</td>\n",
              "      <td>0</td>\n",
              "    </tr>\n",
              "    <tr>\n",
              "      <th>3</th>\n",
              "      <td>Basically there's a family where a little boy ...</td>\n",
              "      <td>1</td>\n",
              "    </tr>\n",
              "    <tr>\n",
              "      <th>4</th>\n",
              "      <td>Petter Mattei's \"Love in the Time of Money\" is...</td>\n",
              "      <td>0</td>\n",
              "    </tr>\n",
              "  </tbody>\n",
              "</table>\n",
              "</div>\n",
              "    <div class=\"colab-df-buttons\">\n",
              "\n",
              "  <div class=\"colab-df-container\">\n",
              "    <button class=\"colab-df-convert\" onclick=\"convertToInteractive('df-8c5e92b5-8bb8-473c-baf4-e5b2b54c992c')\"\n",
              "            title=\"Convert this dataframe to an interactive table.\"\n",
              "            style=\"display:none;\">\n",
              "\n",
              "  <svg xmlns=\"http://www.w3.org/2000/svg\" height=\"24px\" viewBox=\"0 -960 960 960\">\n",
              "    <path d=\"M120-120v-720h720v720H120Zm60-500h600v-160H180v160Zm220 220h160v-160H400v160Zm0 220h160v-160H400v160ZM180-400h160v-160H180v160Zm440 0h160v-160H620v160ZM180-180h160v-160H180v160Zm440 0h160v-160H620v160Z\"/>\n",
              "  </svg>\n",
              "    </button>\n",
              "\n",
              "  <style>\n",
              "    .colab-df-container {\n",
              "      display:flex;\n",
              "      gap: 12px;\n",
              "    }\n",
              "\n",
              "    .colab-df-convert {\n",
              "      background-color: #E8F0FE;\n",
              "      border: none;\n",
              "      border-radius: 50%;\n",
              "      cursor: pointer;\n",
              "      display: none;\n",
              "      fill: #1967D2;\n",
              "      height: 32px;\n",
              "      padding: 0 0 0 0;\n",
              "      width: 32px;\n",
              "    }\n",
              "\n",
              "    .colab-df-convert:hover {\n",
              "      background-color: #E2EBFA;\n",
              "      box-shadow: 0px 1px 2px rgba(60, 64, 67, 0.3), 0px 1px 3px 1px rgba(60, 64, 67, 0.15);\n",
              "      fill: #174EA6;\n",
              "    }\n",
              "\n",
              "    .colab-df-buttons div {\n",
              "      margin-bottom: 4px;\n",
              "    }\n",
              "\n",
              "    [theme=dark] .colab-df-convert {\n",
              "      background-color: #3B4455;\n",
              "      fill: #D2E3FC;\n",
              "    }\n",
              "\n",
              "    [theme=dark] .colab-df-convert:hover {\n",
              "      background-color: #434B5C;\n",
              "      box-shadow: 0px 1px 3px 1px rgba(0, 0, 0, 0.15);\n",
              "      filter: drop-shadow(0px 1px 2px rgba(0, 0, 0, 0.3));\n",
              "      fill: #FFFFFF;\n",
              "    }\n",
              "  </style>\n",
              "\n",
              "    <script>\n",
              "      const buttonEl =\n",
              "        document.querySelector('#df-8c5e92b5-8bb8-473c-baf4-e5b2b54c992c button.colab-df-convert');\n",
              "      buttonEl.style.display =\n",
              "        google.colab.kernel.accessAllowed ? 'block' : 'none';\n",
              "\n",
              "      async function convertToInteractive(key) {\n",
              "        const element = document.querySelector('#df-8c5e92b5-8bb8-473c-baf4-e5b2b54c992c');\n",
              "        const dataTable =\n",
              "          await google.colab.kernel.invokeFunction('convertToInteractive',\n",
              "                                                    [key], {});\n",
              "        if (!dataTable) return;\n",
              "\n",
              "        const docLinkHtml = 'Like what you see? Visit the ' +\n",
              "          '<a target=\"_blank\" href=https://colab.research.google.com/notebooks/data_table.ipynb>data table notebook</a>'\n",
              "          + ' to learn more about interactive tables.';\n",
              "        element.innerHTML = '';\n",
              "        dataTable['output_type'] = 'display_data';\n",
              "        await google.colab.output.renderOutput(dataTable, element);\n",
              "        const docLink = document.createElement('div');\n",
              "        docLink.innerHTML = docLinkHtml;\n",
              "        element.appendChild(docLink);\n",
              "      }\n",
              "    </script>\n",
              "  </div>\n",
              "\n",
              "\n",
              "<div id=\"df-50893d0a-5977-401d-8e7c-0862e18cdbd5\">\n",
              "  <button class=\"colab-df-quickchart\" onclick=\"quickchart('df-50893d0a-5977-401d-8e7c-0862e18cdbd5')\"\n",
              "            title=\"Suggest charts\"\n",
              "            style=\"display:none;\">\n",
              "\n",
              "<svg xmlns=\"http://www.w3.org/2000/svg\" height=\"24px\"viewBox=\"0 0 24 24\"\n",
              "     width=\"24px\">\n",
              "    <g>\n",
              "        <path d=\"M19 3H5c-1.1 0-2 .9-2 2v14c0 1.1.9 2 2 2h14c1.1 0 2-.9 2-2V5c0-1.1-.9-2-2-2zM9 17H7v-7h2v7zm4 0h-2V7h2v10zm4 0h-2v-4h2v4z\"/>\n",
              "    </g>\n",
              "</svg>\n",
              "  </button>\n",
              "\n",
              "<style>\n",
              "  .colab-df-quickchart {\n",
              "      --bg-color: #E8F0FE;\n",
              "      --fill-color: #1967D2;\n",
              "      --hover-bg-color: #E2EBFA;\n",
              "      --hover-fill-color: #174EA6;\n",
              "      --disabled-fill-color: #AAA;\n",
              "      --disabled-bg-color: #DDD;\n",
              "  }\n",
              "\n",
              "  [theme=dark] .colab-df-quickchart {\n",
              "      --bg-color: #3B4455;\n",
              "      --fill-color: #D2E3FC;\n",
              "      --hover-bg-color: #434B5C;\n",
              "      --hover-fill-color: #FFFFFF;\n",
              "      --disabled-bg-color: #3B4455;\n",
              "      --disabled-fill-color: #666;\n",
              "  }\n",
              "\n",
              "  .colab-df-quickchart {\n",
              "    background-color: var(--bg-color);\n",
              "    border: none;\n",
              "    border-radius: 50%;\n",
              "    cursor: pointer;\n",
              "    display: none;\n",
              "    fill: var(--fill-color);\n",
              "    height: 32px;\n",
              "    padding: 0;\n",
              "    width: 32px;\n",
              "  }\n",
              "\n",
              "  .colab-df-quickchart:hover {\n",
              "    background-color: var(--hover-bg-color);\n",
              "    box-shadow: 0 1px 2px rgba(60, 64, 67, 0.3), 0 1px 3px 1px rgba(60, 64, 67, 0.15);\n",
              "    fill: var(--button-hover-fill-color);\n",
              "  }\n",
              "\n",
              "  .colab-df-quickchart-complete:disabled,\n",
              "  .colab-df-quickchart-complete:disabled:hover {\n",
              "    background-color: var(--disabled-bg-color);\n",
              "    fill: var(--disabled-fill-color);\n",
              "    box-shadow: none;\n",
              "  }\n",
              "\n",
              "  .colab-df-spinner {\n",
              "    border: 2px solid var(--fill-color);\n",
              "    border-color: transparent;\n",
              "    border-bottom-color: var(--fill-color);\n",
              "    animation:\n",
              "      spin 1s steps(1) infinite;\n",
              "  }\n",
              "\n",
              "  @keyframes spin {\n",
              "    0% {\n",
              "      border-color: transparent;\n",
              "      border-bottom-color: var(--fill-color);\n",
              "      border-left-color: var(--fill-color);\n",
              "    }\n",
              "    20% {\n",
              "      border-color: transparent;\n",
              "      border-left-color: var(--fill-color);\n",
              "      border-top-color: var(--fill-color);\n",
              "    }\n",
              "    30% {\n",
              "      border-color: transparent;\n",
              "      border-left-color: var(--fill-color);\n",
              "      border-top-color: var(--fill-color);\n",
              "      border-right-color: var(--fill-color);\n",
              "    }\n",
              "    40% {\n",
              "      border-color: transparent;\n",
              "      border-right-color: var(--fill-color);\n",
              "      border-top-color: var(--fill-color);\n",
              "    }\n",
              "    60% {\n",
              "      border-color: transparent;\n",
              "      border-right-color: var(--fill-color);\n",
              "    }\n",
              "    80% {\n",
              "      border-color: transparent;\n",
              "      border-right-color: var(--fill-color);\n",
              "      border-bottom-color: var(--fill-color);\n",
              "    }\n",
              "    90% {\n",
              "      border-color: transparent;\n",
              "      border-bottom-color: var(--fill-color);\n",
              "    }\n",
              "  }\n",
              "</style>\n",
              "\n",
              "  <script>\n",
              "    async function quickchart(key) {\n",
              "      const quickchartButtonEl =\n",
              "        document.querySelector('#' + key + ' button');\n",
              "      quickchartButtonEl.disabled = true;  // To prevent multiple clicks.\n",
              "      quickchartButtonEl.classList.add('colab-df-spinner');\n",
              "      try {\n",
              "        const charts = await google.colab.kernel.invokeFunction(\n",
              "            'suggestCharts', [key], {});\n",
              "      } catch (error) {\n",
              "        console.error('Error during call to suggestCharts:', error);\n",
              "      }\n",
              "      quickchartButtonEl.classList.remove('colab-df-spinner');\n",
              "      quickchartButtonEl.classList.add('colab-df-quickchart-complete');\n",
              "    }\n",
              "    (() => {\n",
              "      let quickchartButtonEl =\n",
              "        document.querySelector('#df-50893d0a-5977-401d-8e7c-0862e18cdbd5 button');\n",
              "      quickchartButtonEl.style.display =\n",
              "        google.colab.kernel.accessAllowed ? 'block' : 'none';\n",
              "    })();\n",
              "  </script>\n",
              "</div>\n",
              "\n",
              "    </div>\n",
              "  </div>\n"
            ],
            "text/plain": [
              "                                              review  sentiment\n",
              "0  One of the other reviewers has mentioned that ...          0\n",
              "1  A wonderful little production. <br /><br />The...          0\n",
              "2  I thought this was a wonderful way to spend ti...          0\n",
              "3  Basically there's a family where a little boy ...          1\n",
              "4  Petter Mattei's \"Love in the Time of Money\" is...          0"
            ]
          },
          "execution_count": 6,
          "metadata": {},
          "output_type": "execute_result"
        }
      ],
      "source": [
        "# Preprocesamiento\n",
        "reviews_positive_negative.sentiment = reviews_positive_negative.sentiment.map({'positive':0, 'negative':1})\n",
        "reviews_positive_negative.head()"
      ]
    },
    {
      "cell_type": "code",
      "execution_count": null,
      "metadata": {
        "colab": {
          "base_uri": "https://localhost:8080/",
          "height": 201
        },
        "id": "TXcmxgDiokiF",
        "outputId": "8194a624-37c4-4988-9fae-8495b9ae58de"
      },
      "outputs": [
        {
          "data": {
            "application/vnd.google.colaboratory.intrinsic+json": {
              "summary": "{\n  \"name\": \"reviews_positive_negative\",\n  \"rows\": 50004,\n  \"fields\": [\n    {\n      \"column\": \"review\",\n      \"properties\": {\n        \"dtype\": \"string\",\n        \"num_unique_values\": 49585,\n        \"samples\": [\n          \"this is definitely the worst vampire flicks of all times. i started to watch this right after interview with the vampire and i was thoroughly disappointed. not only did this movie's script have craters as big as the grand canyon, the movie seemed to jump from one scene to another leaving the viewers thoroughly puzzled. the vampire lestat played by stuart townsend was terrible-having a good body does not make you an actor! the end of the queen was too easy and sudden, insulting the viewers intelligence. i'll give this one star because aaliyah actually tried her best in this movie and the soundtrack is pretty good. other than that i would advice anne rice to take an ax and start hacking those who destroyed her brilliant story.\",\n          \"what on earth was that? my family and i just waisted 2 hours of our life for this piece of rubbish !!! there was no plot, no tension, only a lot of boredom !!! my kids could do better movies with our video-camera.but maybe we just did not get the point of the movie...oh wait, my mum did. she was the only one who liked it for the following reason: \\\"at least a film with no cars screeching...\\\" if you are looking for a war-film with no fighting in it, is still interesting and gripping and has a strong anti-war-message, then you should watch \\\"the trench\\\".i give this film 3 out of 10 because it is good enough for an afternoon-nap and because i am too nice...\",\n          \"if you're watching this movie, you're either a fred olen ray fan, you found it on the $4.99 shelf at suncoast and thought \\\"what do i have to lose?\\\", or you spun around the video store with your eyes closed and rented the first movie your finger touched.this movie is hysterically bad. it's got everything a terrible movie needs: a screenplay featuring jaw-dropping dialogue and baffling detours in the plot, wacky science involving psychics and other dimensions, continuity that seems to travel through wormholes in time and space, actors that are not only wooden, but seems to border on befuddled, gratuitous nudity (not all of it is what you necessarily would ask for), and of course, a 5' monster played by what i assume is fred olen ray's kid.underneath it all, however, there is something resembling heart -- as if mickey & judy decided to get together all the kids in the neighborhood and make a monster movie (hey! my dad can direct it! yeah! we can use red paint from my johnny's dad's hardware store, and i know this ex-stripper who can act in it!).watch for the blooper reel over the credits -- you get to find out why the final cut of the movie was so crappy.incidentally, biohazard ii...the alien force is also worth a look, but doesn't have the same enjoyably crappy veneer this one does.\"\n        ],\n        \"semantic_type\": \"\",\n        \"description\": \"\"\n      }\n    },\n    {\n      \"column\": \"sentiment\",\n      \"properties\": {\n        \"dtype\": \"number\",\n        \"std\": 0,\n        \"min\": 0,\n        \"max\": 1,\n        \"num_unique_values\": 2,\n        \"samples\": [\n          1,\n          0\n        ],\n        \"semantic_type\": \"\",\n        \"description\": \"\"\n      }\n    }\n  ]\n}",
              "type": "dataframe",
              "variable_name": "reviews_positive_negative"
            },
            "text/html": [
              "\n",
              "  <div id=\"df-3cf2f2bf-8806-4853-a0e0-a8223e8b6f15\" class=\"colab-df-container\">\n",
              "    <div>\n",
              "<style scoped>\n",
              "    .dataframe tbody tr th:only-of-type {\n",
              "        vertical-align: middle;\n",
              "    }\n",
              "\n",
              "    .dataframe tbody tr th {\n",
              "        vertical-align: top;\n",
              "    }\n",
              "\n",
              "    .dataframe thead th {\n",
              "        text-align: right;\n",
              "    }\n",
              "</style>\n",
              "<table border=\"1\" class=\"dataframe\">\n",
              "  <thead>\n",
              "    <tr style=\"text-align: right;\">\n",
              "      <th></th>\n",
              "      <th>review</th>\n",
              "      <th>sentiment</th>\n",
              "    </tr>\n",
              "  </thead>\n",
              "  <tbody>\n",
              "    <tr>\n",
              "      <th>0</th>\n",
              "      <td>one of the other reviewers has mentioned that ...</td>\n",
              "      <td>0</td>\n",
              "    </tr>\n",
              "    <tr>\n",
              "      <th>1</th>\n",
              "      <td>a wonderful little production. the filming tec...</td>\n",
              "      <td>0</td>\n",
              "    </tr>\n",
              "    <tr>\n",
              "      <th>2</th>\n",
              "      <td>i thought this was a wonderful way to spend ti...</td>\n",
              "      <td>0</td>\n",
              "    </tr>\n",
              "    <tr>\n",
              "      <th>3</th>\n",
              "      <td>basically there's a family where a little boy ...</td>\n",
              "      <td>1</td>\n",
              "    </tr>\n",
              "    <tr>\n",
              "      <th>4</th>\n",
              "      <td>petter mattei's \"love in the time of money\" is...</td>\n",
              "      <td>0</td>\n",
              "    </tr>\n",
              "  </tbody>\n",
              "</table>\n",
              "</div>\n",
              "    <div class=\"colab-df-buttons\">\n",
              "\n",
              "  <div class=\"colab-df-container\">\n",
              "    <button class=\"colab-df-convert\" onclick=\"convertToInteractive('df-3cf2f2bf-8806-4853-a0e0-a8223e8b6f15')\"\n",
              "            title=\"Convert this dataframe to an interactive table.\"\n",
              "            style=\"display:none;\">\n",
              "\n",
              "  <svg xmlns=\"http://www.w3.org/2000/svg\" height=\"24px\" viewBox=\"0 -960 960 960\">\n",
              "    <path d=\"M120-120v-720h720v720H120Zm60-500h600v-160H180v160Zm220 220h160v-160H400v160Zm0 220h160v-160H400v160ZM180-400h160v-160H180v160Zm440 0h160v-160H620v160ZM180-180h160v-160H180v160Zm440 0h160v-160H620v160Z\"/>\n",
              "  </svg>\n",
              "    </button>\n",
              "\n",
              "  <style>\n",
              "    .colab-df-container {\n",
              "      display:flex;\n",
              "      gap: 12px;\n",
              "    }\n",
              "\n",
              "    .colab-df-convert {\n",
              "      background-color: #E8F0FE;\n",
              "      border: none;\n",
              "      border-radius: 50%;\n",
              "      cursor: pointer;\n",
              "      display: none;\n",
              "      fill: #1967D2;\n",
              "      height: 32px;\n",
              "      padding: 0 0 0 0;\n",
              "      width: 32px;\n",
              "    }\n",
              "\n",
              "    .colab-df-convert:hover {\n",
              "      background-color: #E2EBFA;\n",
              "      box-shadow: 0px 1px 2px rgba(60, 64, 67, 0.3), 0px 1px 3px 1px rgba(60, 64, 67, 0.15);\n",
              "      fill: #174EA6;\n",
              "    }\n",
              "\n",
              "    .colab-df-buttons div {\n",
              "      margin-bottom: 4px;\n",
              "    }\n",
              "\n",
              "    [theme=dark] .colab-df-convert {\n",
              "      background-color: #3B4455;\n",
              "      fill: #D2E3FC;\n",
              "    }\n",
              "\n",
              "    [theme=dark] .colab-df-convert:hover {\n",
              "      background-color: #434B5C;\n",
              "      box-shadow: 0px 1px 3px 1px rgba(0, 0, 0, 0.15);\n",
              "      filter: drop-shadow(0px 1px 2px rgba(0, 0, 0, 0.3));\n",
              "      fill: #FFFFFF;\n",
              "    }\n",
              "  </style>\n",
              "\n",
              "    <script>\n",
              "      const buttonEl =\n",
              "        document.querySelector('#df-3cf2f2bf-8806-4853-a0e0-a8223e8b6f15 button.colab-df-convert');\n",
              "      buttonEl.style.display =\n",
              "        google.colab.kernel.accessAllowed ? 'block' : 'none';\n",
              "\n",
              "      async function convertToInteractive(key) {\n",
              "        const element = document.querySelector('#df-3cf2f2bf-8806-4853-a0e0-a8223e8b6f15');\n",
              "        const dataTable =\n",
              "          await google.colab.kernel.invokeFunction('convertToInteractive',\n",
              "                                                    [key], {});\n",
              "        if (!dataTable) return;\n",
              "\n",
              "        const docLinkHtml = 'Like what you see? Visit the ' +\n",
              "          '<a target=\"_blank\" href=https://colab.research.google.com/notebooks/data_table.ipynb>data table notebook</a>'\n",
              "          + ' to learn more about interactive tables.';\n",
              "        element.innerHTML = '';\n",
              "        dataTable['output_type'] = 'display_data';\n",
              "        await google.colab.output.renderOutput(dataTable, element);\n",
              "        const docLink = document.createElement('div');\n",
              "        docLink.innerHTML = docLinkHtml;\n",
              "        element.appendChild(docLink);\n",
              "      }\n",
              "    </script>\n",
              "  </div>\n",
              "\n",
              "\n",
              "<div id=\"df-3dde48ad-4800-4c00-bbda-d8790ead50d9\">\n",
              "  <button class=\"colab-df-quickchart\" onclick=\"quickchart('df-3dde48ad-4800-4c00-bbda-d8790ead50d9')\"\n",
              "            title=\"Suggest charts\"\n",
              "            style=\"display:none;\">\n",
              "\n",
              "<svg xmlns=\"http://www.w3.org/2000/svg\" height=\"24px\"viewBox=\"0 0 24 24\"\n",
              "     width=\"24px\">\n",
              "    <g>\n",
              "        <path d=\"M19 3H5c-1.1 0-2 .9-2 2v14c0 1.1.9 2 2 2h14c1.1 0 2-.9 2-2V5c0-1.1-.9-2-2-2zM9 17H7v-7h2v7zm4 0h-2V7h2v10zm4 0h-2v-4h2v4z\"/>\n",
              "    </g>\n",
              "</svg>\n",
              "  </button>\n",
              "\n",
              "<style>\n",
              "  .colab-df-quickchart {\n",
              "      --bg-color: #E8F0FE;\n",
              "      --fill-color: #1967D2;\n",
              "      --hover-bg-color: #E2EBFA;\n",
              "      --hover-fill-color: #174EA6;\n",
              "      --disabled-fill-color: #AAA;\n",
              "      --disabled-bg-color: #DDD;\n",
              "  }\n",
              "\n",
              "  [theme=dark] .colab-df-quickchart {\n",
              "      --bg-color: #3B4455;\n",
              "      --fill-color: #D2E3FC;\n",
              "      --hover-bg-color: #434B5C;\n",
              "      --hover-fill-color: #FFFFFF;\n",
              "      --disabled-bg-color: #3B4455;\n",
              "      --disabled-fill-color: #666;\n",
              "  }\n",
              "\n",
              "  .colab-df-quickchart {\n",
              "    background-color: var(--bg-color);\n",
              "    border: none;\n",
              "    border-radius: 50%;\n",
              "    cursor: pointer;\n",
              "    display: none;\n",
              "    fill: var(--fill-color);\n",
              "    height: 32px;\n",
              "    padding: 0;\n",
              "    width: 32px;\n",
              "  }\n",
              "\n",
              "  .colab-df-quickchart:hover {\n",
              "    background-color: var(--hover-bg-color);\n",
              "    box-shadow: 0 1px 2px rgba(60, 64, 67, 0.3), 0 1px 3px 1px rgba(60, 64, 67, 0.15);\n",
              "    fill: var(--button-hover-fill-color);\n",
              "  }\n",
              "\n",
              "  .colab-df-quickchart-complete:disabled,\n",
              "  .colab-df-quickchart-complete:disabled:hover {\n",
              "    background-color: var(--disabled-bg-color);\n",
              "    fill: var(--disabled-fill-color);\n",
              "    box-shadow: none;\n",
              "  }\n",
              "\n",
              "  .colab-df-spinner {\n",
              "    border: 2px solid var(--fill-color);\n",
              "    border-color: transparent;\n",
              "    border-bottom-color: var(--fill-color);\n",
              "    animation:\n",
              "      spin 1s steps(1) infinite;\n",
              "  }\n",
              "\n",
              "  @keyframes spin {\n",
              "    0% {\n",
              "      border-color: transparent;\n",
              "      border-bottom-color: var(--fill-color);\n",
              "      border-left-color: var(--fill-color);\n",
              "    }\n",
              "    20% {\n",
              "      border-color: transparent;\n",
              "      border-left-color: var(--fill-color);\n",
              "      border-top-color: var(--fill-color);\n",
              "    }\n",
              "    30% {\n",
              "      border-color: transparent;\n",
              "      border-left-color: var(--fill-color);\n",
              "      border-top-color: var(--fill-color);\n",
              "      border-right-color: var(--fill-color);\n",
              "    }\n",
              "    40% {\n",
              "      border-color: transparent;\n",
              "      border-right-color: var(--fill-color);\n",
              "      border-top-color: var(--fill-color);\n",
              "    }\n",
              "    60% {\n",
              "      border-color: transparent;\n",
              "      border-right-color: var(--fill-color);\n",
              "    }\n",
              "    80% {\n",
              "      border-color: transparent;\n",
              "      border-right-color: var(--fill-color);\n",
              "      border-bottom-color: var(--fill-color);\n",
              "    }\n",
              "    90% {\n",
              "      border-color: transparent;\n",
              "      border-bottom-color: var(--fill-color);\n",
              "    }\n",
              "  }\n",
              "</style>\n",
              "\n",
              "  <script>\n",
              "    async function quickchart(key) {\n",
              "      const quickchartButtonEl =\n",
              "        document.querySelector('#' + key + ' button');\n",
              "      quickchartButtonEl.disabled = true;  // To prevent multiple clicks.\n",
              "      quickchartButtonEl.classList.add('colab-df-spinner');\n",
              "      try {\n",
              "        const charts = await google.colab.kernel.invokeFunction(\n",
              "            'suggestCharts', [key], {});\n",
              "      } catch (error) {\n",
              "        console.error('Error during call to suggestCharts:', error);\n",
              "      }\n",
              "      quickchartButtonEl.classList.remove('colab-df-spinner');\n",
              "      quickchartButtonEl.classList.add('colab-df-quickchart-complete');\n",
              "    }\n",
              "    (() => {\n",
              "      let quickchartButtonEl =\n",
              "        document.querySelector('#df-3dde48ad-4800-4c00-bbda-d8790ead50d9 button');\n",
              "      quickchartButtonEl.style.display =\n",
              "        google.colab.kernel.accessAllowed ? 'block' : 'none';\n",
              "    })();\n",
              "  </script>\n",
              "</div>\n",
              "\n",
              "    </div>\n",
              "  </div>\n"
            ],
            "text/plain": [
              "                                              review  sentiment\n",
              "0  one of the other reviewers has mentioned that ...          0\n",
              "1  a wonderful little production. the filming tec...          0\n",
              "2  i thought this was a wonderful way to spend ti...          0\n",
              "3  basically there's a family where a little boy ...          1\n",
              "4  petter mattei's \"love in the time of money\" is...          0"
            ]
          },
          "execution_count": 7,
          "metadata": {},
          "output_type": "execute_result"
        }
      ],
      "source": [
        "# Notamos que el dataset contiene símbolos de markdown, por lo que lo quitamos con la librería 'regular expressions'\n",
        "reviews_positive_negative['review'] = reviews_positive_negative['review'].apply(\n",
        "    lambda x: re.sub('<.*?>', '', x).lower()\n",
        ")\n",
        "reviews_positive_negative.head()"
      ]
    },
    {
      "cell_type": "code",
      "execution_count": null,
      "metadata": {
        "colab": {
          "base_uri": "https://localhost:8080/"
        },
        "id": "NM0mB_HcpPYS",
        "outputId": "535f62ad-1d45-42ad-c5c2-ac27fe7d8b64"
      },
      "outputs": [
        {
          "data": {
            "text/plain": [
              "((50004, 2), (37503,), (12501,))"
            ]
          },
          "execution_count": 8,
          "metadata": {},
          "output_type": "execute_result"
        }
      ],
      "source": [
        "# Separamos en entrnamientos y pruebas\n",
        "X_train, X_test, y_train, y_test = train_test_split(reviews_positive_negative.review, reviews_positive_negative.sentiment, random_state = 1)\n",
        "reviews_positive_negative.shape, X_train.shape, X_test.shape"
      ]
    },
    {
      "cell_type": "code",
      "execution_count": null,
      "metadata": {
        "colab": {
          "base_uri": "https://localhost:8080/"
        },
        "id": "4WuIN0-nuU9k",
        "outputId": "0601c795-2442-4005-874e-4a8e4f7bbf88"
      },
      "outputs": [
        {
          "name": "stdout",
          "output_type": "stream",
          "text": [
            "(37503,) (37503,)\n",
            "25773    at long last! one of michael jackson's most we...\n",
            "31783    first off, i really loved henry fool, which pu...\n",
            "33822    we've all seen this story a hundred times. you...\n",
            "18644    an intelligent and well obtained film worth to...\n",
            "36168    unfortunately, i've never seen the full versio...\n",
            "Name: review, dtype: object 25773    0\n",
            "31783    1\n",
            "33822    1\n",
            "18644    0\n",
            "36168    0\n",
            "Name: sentiment, dtype: int64\n"
          ]
        }
      ],
      "source": [
        "print(X_train.shape, y_train.shape)\n",
        "print(X_train.head(), y_train.head())\n"
      ]
    },
    {
      "cell_type": "code",
      "execution_count": null,
      "metadata": {
        "colab": {
          "base_uri": "https://localhost:8080/"
        },
        "id": "0eSsdBPupTxB",
        "outputId": "48914637-f59b-4156-e295-af552c397b52"
      },
      "outputs": [
        {
          "name": "stdout",
          "output_type": "stream",
          "text": [
            "sentiment\n",
            "1    25004\n",
            "0    25000\n",
            "Name: count, dtype: int64\n",
            "sentiment\n",
            "1    50.004\n",
            "0    49.996\n",
            "Name: count, dtype: float64\n"
          ]
        }
      ],
      "source": [
        "print(reviews_positive_negative['sentiment'].value_counts())\n",
        "# Porcentajes de cada clase\n",
        "porcentajes = reviews_positive_negative['sentiment'].value_counts() / len(reviews_positive_negative) * 100\n",
        "print(porcentajes)\n",
        "\n",
        "# Clases balanceadas por lo que no es necesario que usemos stratified k-fold cross-validation"
      ]
    },
    {
      "cell_type": "markdown",
      "metadata": {
        "id": "LLAPVyVPq-LG"
      },
      "source": [
        "# Clasificador Bayesiano Multinomial"
      ]
    },
    {
      "cell_type": "code",
      "execution_count": null,
      "metadata": {
        "id": "2WtId214sbeY"
      },
      "outputs": [],
      "source": [
        "from sklearn.naive_bayes import MultinomialNB"
      ]
    },
    {
      "cell_type": "code",
      "execution_count": null,
      "metadata": {
        "id": "PSNiQPKCrWkS"
      },
      "outputs": [],
      "source": [
        "pipeline_NB = Pipeline([\n",
        "    ('cv', CountVectorizer(stop_words = 'english')),\n",
        "    ('nb', MultinomialNB())\n",
        "])"
      ]
    },
    {
      "cell_type": "code",
      "execution_count": null,
      "metadata": {
        "colab": {
          "base_uri": "https://localhost:8080/"
        },
        "id": "dOhC67HouDsc",
        "outputId": "6c5cee02-922d-4f6f-f626-dee610481027"
      },
      "outputs": [
        {
          "name": "stdout",
          "output_type": "stream",
          "text": [
            "Mejor parámetro: {'nb__alpha': 1.0}\n",
            "Mejor exactitud: 0.8543048873483535\n"
          ]
        }
      ],
      "source": [
        "# Buscamos el mejor parámetro\n",
        "parametros = {\n",
        "    'nb__alpha': [0.1, 0.5, 1.0, 2.0, 5.0]\n",
        "}\n",
        "buscar_en_grid = GridSearchCV(pipeline_NB, parametros, cv=5, scoring='accuracy', n_jobs = -1)\n",
        "buscar_en_grid.fit(X_train, y_train)\n",
        "\n",
        "print(\"Mejor parámetro:\", buscar_en_grid.best_params_)\n",
        "print(\"Mejor exactitud:\", buscar_en_grid.best_score_)"
      ]
    },
    {
      "cell_type": "code",
      "execution_count": null,
      "metadata": {
        "id": "CAr2GwywuhQn"
      },
      "outputs": [],
      "source": [
        "### Predicciones con y_test\n",
        "modelo_NB = buscar_en_grid.best_estimator_\n",
        "y_pred_nb = modelo_NB.predict(X_test)\n"
      ]
    },
    {
      "cell_type": "code",
      "execution_count": null,
      "metadata": {
        "colab": {
          "base_uri": "https://localhost:8080/"
        },
        "id": "qxXlG7Szup4I",
        "outputId": "9180ef64-66d9-4988-d763-4418140f66af"
      },
      "outputs": [
        {
          "name": "stdout",
          "output_type": "stream",
          "text": [
            "Accuracy: 0.8532117430605551\n",
            "              precision    recall  f1-score   support\n",
            "\n",
            "           0       0.87      0.83      0.85      6222\n",
            "           1       0.84      0.88      0.86      6279\n",
            "\n",
            "    accuracy                           0.85     12501\n",
            "   macro avg       0.85      0.85      0.85     12501\n",
            "weighted avg       0.85      0.85      0.85     12501\n",
            "\n"
          ]
        }
      ],
      "source": [
        "print(\"Accuracy:\", accuracy_score(y_test, y_pred_nb))\n",
        "print(classification_report(y_test, y_pred_nb))"
      ]
    },
    {
      "cell_type": "code",
      "execution_count": null,
      "metadata": {
        "colab": {
          "background_save": true
        },
        "id": "KjRvr_v9xCPf"
      },
      "outputs": [],
      "source": [
        "### Curva de aprendizaje\n",
        "\n",
        "train_sizes, train_scores, test_scores = learning_curve(\n",
        "    pipeline_NB, X = X_train, y = y_train, cv=5, train_sizes=np.linspace(0.1, 1.0, 5), scoring='accuracy', n_jobs=-1\n",
        ")"
      ]
    },
    {
      "cell_type": "code",
      "execution_count": null,
      "metadata": {
        "colab": {
          "background_save": true
        },
        "id": "nQ_23CP2xrg4"
      },
      "outputs": [],
      "source": [
        "train_mean = np.mean(train_scores, axis=1)\n",
        "train_std = np.std(train_scores, axis=1) #  variabilidad en diferentes pliegues\n",
        "test_mean = np.mean(test_scores, axis=1)\n",
        "test_std = np.std(test_scores, axis=1)"
      ]
    },
    {
      "cell_type": "code",
      "execution_count": null,
      "metadata": {
        "colab": {
          "background_save": true
        },
        "id": "UIo28ueKxsVv",
        "outputId": "df97226f-e0c7-4b54-c217-1887f4427843"
      },
      "outputs": [
        {
          "data": {
            "image/png": "[encoded data removed]",
            "text/plain": [
              "<Figure size 640x480 with 1 Axes>"
            ]
          },
          "metadata": {},
          "output_type": "display_data"
        }
      ],
      "source": [
        "# Entrenamiento\n",
        "plt.plot(train_sizes, train_mean, color='blue', marker='o', markersize=5, label='Exactitud en entrenamiento')\n",
        "plt.fill_between(train_sizes, train_mean + train_std, train_mean - train_std, color='blue', alpha=0.15)\n",
        "\n",
        "# Pruebas\n",
        "plt.plot(train_sizes, test_mean, color='green', marker='o', markersize=5, label='Exactitud en validación')\n",
        "plt.fill_between(train_sizes, test_mean + test_std, test_mean - test_std, color='green', alpha=0.15)\n",
        "\n",
        "# Amenidades\n",
        "plt.grid()\n",
        "plt.xlabel('Número de muestras')\n",
        "plt.ylabel('Exactitud (Accuracy)')\n",
        "plt.legend(loc='best')\n",
        "plt.ylim([0.0, 1.05])\n",
        "plt.title('Curva de Aprendizaje')\n",
        "plt.show()"
      ]
    },
    {
      "cell_type": "markdown",
      "metadata": {
        "id": "bTi8Ywqy1c4I"
      },
      "source": [
        "* Exactitud en entramiento: Esto quiere decir que a medida que se agrega más data, el modelo generaliza mejor y no solo memoriza, lo que causa la ligera disminución en la exactitud del entrenamiento.\n",
        "\n",
        "* Cuando el modelo entrena con pocas muestras, no aprende lo suficiente para generalizar bien, lo que da un rendimiento bajo en los datos de validación. Eventualmente, se estabiliza entre 85% y 90%."
      ]
    },
    {
      "cell_type": "markdown",
      "metadata": {
        "id": "SAnye57bdG8e"
      },
      "source": [
        "# Regresión Logistica"
      ]
    },
    {
      "cell_type": "code",
      "execution_count": null,
      "metadata": {
        "colab": {
          "background_save": true
        },
        "collapsed": true,
        "id": "Ib-67Ju9hyYI"
      },
      "outputs": [],
      "source": [
        "from sklearn.linear_model import LogisticRegression"
      ]
    },
    {
      "cell_type": "code",
      "execution_count": null,
      "metadata": {
        "colab": {
          "background_save": true
        },
        "id": "YyM0ZcITtpei"
      },
      "outputs": [],
      "source": [
        "pipeline_LR = Pipeline([\n",
        "    ('cv', CountVectorizer(stop_words = 'english')),\n",
        "    ('lr', LogisticRegression(penalty = 'l2'))\n",
        "])"
      ]
    },
    {
      "cell_type": "code",
      "execution_count": null,
      "metadata": {
        "colab": {
          "background_save": true
        },
        "id": "HWrW5ts8yCcP",
        "outputId": "0914b977-58e7-4e59-99f2-970516f72123"
      },
      "outputs": [
        {
          "name": "stdout",
          "output_type": "stream",
          "text": [
            "Mejores parámetros: {'lr__C': 0.1}\n",
            "Mejor exactitud: 0.8848358797962829\n"
          ]
        }
      ],
      "source": [
        "# Buscamos el mejor parámetro\n",
        "parametros = {\n",
        "    'lr__C': [0.01, 0.1, 1]\n",
        "}\n",
        "buscar_en_grid_LR = GridSearchCV(pipeline_LR, parametros, cv=3, scoring='accuracy', n_jobs = -1)\n",
        "buscar_en_grid_LR.fit(X_train, y_train)\n",
        "\n",
        "print(\"Mejores parámetros:\", buscar_en_grid_LR.best_params_)\n",
        "print(\"Mejor exactitud:\", buscar_en_grid_LR.best_score_)"
      ]
    },
    {
      "cell_type": "code",
      "execution_count": null,
      "metadata": {
        "colab": {
          "background_save": true
        },
        "id": "LkqwpLOkyO9B"
      },
      "outputs": [],
      "source": [
        "### Predicciones con y_test\n",
        "modelo_LR = buscar_en_grid_LR.best_estimator_\n",
        "y_pred_lr = modelo_LR.predict(X_test)"
      ]
    },
    {
      "cell_type": "code",
      "execution_count": null,
      "metadata": {
        "colab": {
          "background_save": true
        },
        "id": "9m_PfQcsyS-1",
        "outputId": "a9cfa97a-82d7-41e9-a55e-5ca059b3933e"
      },
      "outputs": [
        {
          "name": "stdout",
          "output_type": "stream",
          "text": [
            "Accuracy: 0.8860891128709704\n",
            "              precision    recall  f1-score   support\n",
            "\n",
            "           0       0.88      0.90      0.89      6222\n",
            "           1       0.90      0.87      0.89      6279\n",
            "\n",
            "    accuracy                           0.89     12501\n",
            "   macro avg       0.89      0.89      0.89     12501\n",
            "weighted avg       0.89      0.89      0.89     12501\n",
            "\n"
          ]
        }
      ],
      "source": [
        "print(\"Accuracy:\", accuracy_score(y_test, y_pred_lr))\n",
        "print(classification_report(y_test, y_pred_lr))"
      ]
    },
    {
      "cell_type": "code",
      "execution_count": 24,
      "metadata": {
        "id": "axdYw8-CyW3P"
      },
      "outputs": [],
      "source": [
        "### Curva de aprendizaje\n",
        "\n",
        "train_sizes, train_scores, test_scores = learning_curve(\n",
        "    pipeline_LR, X = X_train, y = y_train, cv=3, train_sizes=np.linspace(0.1, 1.0, 5), scoring='accuracy', n_jobs=-1\n",
        ")"
      ]
    },
    {
      "cell_type": "code",
      "execution_count": 25,
      "metadata": {
        "id": "skBaMxCnyaAT"
      },
      "outputs": [],
      "source": [
        "train_mean = np.mean(train_scores, axis=1)\n",
        "train_std = np.std(train_scores, axis=1) #  variabilidad en diferentes pliegues\n",
        "test_mean = np.mean(test_scores, axis=1)\n",
        "test_std = np.std(test_scores, axis=1)"
      ]
    },
    {
      "cell_type": "code",
      "execution_count": 26,
      "metadata": {
        "id": "0hgfZ5XCybY1",
        "colab": {
          "base_uri": "https://localhost:8080/",
          "height": 471
        },
        "outputId": "8a6a1799-fd28-41dc-bae7-8419a2596c8d"
      },
      "outputs": [
        {
          "output_type": "display_data",
          "data": {
            "text/plain": [
              "<Figure size 640x480 with 1 Axes>"
            ],
            "image/png": "[encoded data removed]"
          },
          "metadata": {}
        }
      ],
      "source": [
        "# Entrenamiento\n",
        "plt.plot(train_sizes, train_mean, color='blue', marker='o', markersize=5, label='Exactitud en entrenamiento')\n",
        "plt.fill_between(train_sizes, train_mean + train_std, train_mean - train_std, color='blue', alpha=0.15)\n",
        "\n",
        "# Pruebas\n",
        "plt.plot(train_sizes, test_mean, color='green', marker='o', markersize=5, label='Exactitud en validación')\n",
        "plt.fill_between(train_sizes, test_mean + test_std, test_mean - test_std, color='green', alpha=0.15)\n",
        "\n",
        "# Amenidades\n",
        "plt.grid()\n",
        "plt.xlabel('Número de muestras')\n",
        "plt.ylabel('Exactitud (Accuracy)')\n",
        "plt.legend(loc='best')\n",
        "plt.ylim([0.0, 1.05])\n",
        "plt.title('Curva de Aprendizaje')\n",
        "plt.show()"
      ]
    },
    {
      "cell_type": "markdown",
      "metadata": {
        "id": "X0gvZ_VLc3ro"
      },
      "source": [
        "# **Comparación final:** ¿Cuál modelo clasifica mejor?"
      ]
    },
    {
      "cell_type": "code",
      "execution_count": 27,
      "metadata": {
        "id": "DOej6P2eydeb",
        "colab": {
          "base_uri": "https://localhost:8080/"
        },
        "outputId": "a4e67caa-59c7-4be6-9f61-77a91be32333"
      },
      "outputs": [
        {
          "output_type": "stream",
          "name": "stdout",
          "text": [
            "                Modelo  Accuracy  F1-Score  Precision    Recall\n",
            "0  Logistic Regression  0.886089  0.886078   0.886336  0.886089\n",
            "1       Multinomial NB  0.853212  0.853130   0.853829  0.853212\n"
          ]
        }
      ],
      "source": [
        "resultados_metricas = {\n",
        "    'Modelo': [],\n",
        "    'Accuracy': [],\n",
        "    'F1-Score': [],\n",
        "    'Precision': [],\n",
        "    'Recall': []\n",
        "}\n",
        "\n",
        "# Evaluar modelos y guardar métricas\n",
        "for modelo_nombre, y_pred in [\n",
        "    ('Logistic Regression', y_pred_lr),\n",
        "    ('Multinomial NB', y_pred_nb)\n",
        "]:\n",
        "    resultados_metricas['Modelo'].append(modelo_nombre)\n",
        "    resultados_metricas['Accuracy'].append(accuracy_score(y_test, y_pred))\n",
        "    resultados_metricas['F1-Score'].append(f1_score(y_test, y_pred, average='weighted'))\n",
        "    resultados_metricas['Precision'].append(precision_score(y_test, y_pred, average='weighted'))\n",
        "    resultados_metricas['Recall'].append(recall_score(y_test, y_pred, average='weighted'))\n",
        "\n",
        "# Convertir a DataFrame\n",
        "metricas_df = pd.DataFrame(resultados_metricas)\n",
        "print(metricas_df)"
      ]
    },
    {
      "cell_type": "code",
      "execution_count": 28,
      "metadata": {
        "id": "S5_DjmymgBQE",
        "colab": {
          "base_uri": "https://localhost:8080/",
          "height": 655
        },
        "outputId": "b7e93e16-fe20-4fc5-908a-93bfc2034d9a"
      },
      "outputs": [
        {
          "output_type": "display_data",
          "data": {
            "text/plain": [
              "<Figure size 1000x600 with 1 Axes>"
            ],
            "image/png": "[encoded data removed]"
          },
          "metadata": {}
        }
      ],
      "source": [
        "metricas_df.set_index('Modelo').plot(kind='bar', figsize=(10, 6))\n",
        "plt.title('Comparación de Métricas entre Modelos')\n",
        "plt.ylabel('Valor')\n",
        "plt.xlabel('Modelos')\n",
        "plt.ylim(0, 1)\n",
        "plt.xticks(rotation=45)\n",
        "plt.legend(loc='best')\n",
        "plt.grid(axis='y')\n",
        "plt.show()\n"
      ]
    },
    {
      "cell_type": "markdown",
      "metadata": {
        "id": "fk7O5-x-rEMg"
      },
      "source": [
        "# Sistema de recomendaciones"
      ]
    },
    {
      "cell_type": "markdown",
      "metadata": {
        "id": "fMR4bToKyV8g"
      },
      "source": [
        "Una vez entrenado el modelo, podemos crear nuestro sistema de recomendacion de películas, el cual consiste de las siguientes funciones:\n",
        "\n",
        "1. buscar_peliculas: Busca películas en movies.csv en base a palabras clave o títulos que el usuario escriba.\n",
        "2. reseñar_peliculas: Permite que el usuario escriba múltiples películas y que les de su reseña a cada una de ellas.\n",
        "3. predecir_reseña: Predice si la reseña es 'positiva' o 'negativa' dependiendo del modelo.\n",
        "4. recomendar: Recomienda películas basado en el título y los generos de la(s) película(s) clasificada(s) como positiva(s)."
      ]
    },
    {
      "cell_type": "code",
      "execution_count": 29,
      "metadata": {
        "id": "SiYxB8p075si"
      },
      "outputs": [],
      "source": [
        "movies = pd.read_csv('/content/movies.csv')"
      ]
    },
    {
      "cell_type": "code",
      "execution_count": 30,
      "metadata": {
        "id": "JqtcoAkt7D6o"
      },
      "outputs": [],
      "source": [
        "def buscar_peliculas(movies):\n",
        "\n",
        "    consultas = input(\"Ingrese los títulos o palabras clave de las películas que desea buscar, separados por comas: \").lower().split(',')\n",
        "    consultas = [query.strip() for query in consultas]\n",
        "\n",
        "    pelis_filtradas = movies[movies['title'].str.lower().str.contains('|'.join(consultas), na=False)]\n",
        "\n",
        "    if pelis_filtradas.empty:\n",
        "        print(\"No se encontraron películas que coincidan con la búsqueda.\")\n",
        "        return pd.DataFrame()\n",
        "\n",
        "    pelis_filtradas = pelis_filtradas.sort_values(by=['popularity', 'vote_average'], ascending=[False, False])\n",
        "\n",
        "    print(\"\\n--- Resultados de la Búsqueda ---\")\n",
        "    for i, row in pelis_filtradas.iterrows():\n",
        "        print(f\"{i}: {row['title']} (Géneros: {row['genres']}) | Popularidad: {row.get('popularity', 'N/A')} | Voto promedio: {row.get('vote_average', 'N/A')}\")\n",
        "\n",
        "    return pelis_filtradas\n"
      ]
    },
    {
      "cell_type": "code",
      "execution_count": 31,
      "metadata": {
        "id": "0Ub0WRhs-imZ"
      },
      "outputs": [],
      "source": [
        "def reseñar_peliculas(movies):\n",
        "\n",
        "    pelis_filtradas = buscar_peliculas(movies)\n",
        "\n",
        "    if pelis_filtradas.empty:\n",
        "        return []\n",
        "\n",
        "    ids = input(\"\\nIngrese los números de las películas que desea reseñar, separados por comas: \").split(',')\n",
        "    ids = [int(movie_id.strip()) for movie_id in ids if movie_id.strip().isdigit()]\n",
        "\n",
        "    reseñas = []\n",
        "    for movie_id in ids:\n",
        "        if movie_id in pelis_filtradas.index:\n",
        "            movie = pelis_filtradas.loc[movie_id]\n",
        "            print(f\"\\nReseña de: {movie['title']} (Géneros: {movie['genres']})\")\n",
        "            reseña = input(\"Escriba su reseña para esta película (positiva o negativa): \")\n",
        "            reseñas.append((movie['title'], reseña))\n",
        "        else:\n",
        "            print(f\"El ID {movie_id} no está en la lista.\")\n",
        "\n",
        "    return reseñas"
      ]
    },
    {
      "cell_type": "code",
      "execution_count": 32,
      "metadata": {
        "id": "SHWxcjPK_gOn"
      },
      "outputs": [],
      "source": [
        "def predecir_reseña_NB(review):\n",
        "    sentimiento = modelo_NB.predict([review])[0]\n",
        "    return \"positive\" if sentimiento == 0 else \"negative\""
      ]
    },
    {
      "cell_type": "code",
      "execution_count": 33,
      "metadata": {
        "id": "_QL14wg2Ew8T"
      },
      "outputs": [],
      "source": [
        "def predecir_reseña_LR(review):\n",
        "    sentimiento = modelo_LR.predict([review])[0]\n",
        "    return \"positive\" if sentimiento == 0 else \"negative\""
      ]
    },
    {
      "cell_type": "markdown",
      "metadata": {
        "id": "hiBtTI3m_8Ev"
      },
      "source": [
        "# Recomendar con kNN vecinos"
      ]
    },
    {
      "cell_type": "code",
      "execution_count": 34,
      "metadata": {
        "id": "0uxREIA3_tW-"
      },
      "outputs": [],
      "source": [
        "from sklearn.feature_extraction.text import CountVectorizer\n",
        "from sklearn.neighbors import NearestNeighbors\n",
        "import pandas as pd\n",
        "\n",
        "def recomendar_peliculas_KNN(peliculas_positivas, peliculas_negativas, movies, num_recomendaciones=5):\n",
        "    movies['combined_features'] = (\n",
        "        movies['genres'].fillna('') + ' ' +\n",
        "        movies['keywords'].fillna('') + ' ' +\n",
        "        movies['overview'].fillna('')\n",
        "    )\n",
        "\n",
        "    vectorizador = CountVectorizer(stop_words='english')\n",
        "    matriz_caracteristicas = vectorizador.fit_transform(movies['combined_features'])\n",
        "\n",
        "    knn = NearestNeighbors(metric='cosine', n_neighbors=num_recomendaciones + 1) # mas 1 para que excluya a si misma\n",
        "    knn.fit(matriz_caracteristicas)\n",
        "\n",
        "    peliculas_recomendadas = []\n",
        "    for _, pelicula in peliculas_positivas.iterrows():\n",
        "        indice_pelicula = movies[movies['title'] == pelicula['title']].index[0]\n",
        "        distancias, indices = knn.kneighbors(matriz_caracteristicas[indice_pelicula], n_neighbors=num_recomendaciones + 1)\n",
        "        peliculas_similares = indices.flatten()[1:]\n",
        "        peliculas_recomendadas.extend(movies.iloc[peliculas_similares].to_dict(orient='records'))\n",
        "\n",
        "    recomendaciones_df = pd.DataFrame(peliculas_recomendadas).drop_duplicates(subset='title') # Elimina duplicados en caso de que se clasifique más de una peli como positiva\n",
        "\n",
        "    if not peliculas_negativas.empty:\n",
        "        titulos_excluidos = []\n",
        "        for _, pelicula in peliculas_negativas.iterrows():\n",
        "            indice_pelicula = movies[movies['title'] == pelicula['title']].index[0]\n",
        "            distancias, indices = knn.kneighbors(matriz_caracteristicas[indice_pelicula], n_neighbors=num_recomendaciones + 1)\n",
        "            peliculas_similares = indices.flatten()[1:]\n",
        "            titulos_excluidos.extend(movies.iloc[peliculas_similares]['title'].tolist())\n",
        "\n",
        "        recomendaciones_df = recomendaciones_df[~recomendaciones_df['title'].isin(titulos_excluidos)]\n",
        "\n",
        "    return recomendaciones_df[['title', 'genres', 'popularity', 'vote_average']].sort_values(\n",
        "        by=['popularity', 'vote_average'], ascending=[False, False]\n",
        "    )"
      ]
    },
    {
      "cell_type": "code",
      "source": [
        "ruto"
      ],
      "metadata": {
        "id": "BA7SWNVkyUHt"
      },
      "execution_count": null,
      "outputs": []
    },
    {
      "cell_type": "code",
      "execution_count": 45,
      "metadata": {
        "id": "abOBPJ8BELDx",
        "colab": {
          "base_uri": "https://localhost:8080/",
          "height": 1000
        },
        "outputId": "8adfb7b6-f37c-44d4-dac9-3c4ad5e2411c"
      },
      "outputs": [
        {
          "metadata": {
            "tags": null
          },
          "name": "stdout",
          "output_type": "stream",
          "text": [
            "\n",
            "--- Resultados de la Búsqueda ---\n",
            "361: The Batman (Géneros: Crime, Mystery, Thriller) | Popularidad: 100.817 | Voto promedio: 7.705\n",
            "40: Batman Begins (Géneros: Action, Crime, Drama) | Popularidad: 66.286 | Voto promedio: 7.701\n",
            "4015: Naruto Shippuden the Movie (Géneros: Animation, Action, Fantasy) | Popularidad: 62.202 | Voto promedio: 7.371\n",
            "2219: The Last: Naruto the Movie (Géneros: Action, Romance, Animation) | Popularidad: 41.554 | Voto promedio: 7.758\n",
            "2771: Boruto: Naruto the Movie (Géneros: Animation, Action, Comedy) | Popularidad: 41.024 | Voto promedio: 7.595\n",
            "476: Batman (Géneros: Fantasy, Action, Crime) | Popularidad: 40.79 | Voto promedio: 7.2\n",
            "3591: Road to Ninja: Naruto the Movie (Géneros: Animation, Fantasy, Action) | Popularidad: 38.342 | Voto promedio: 7.588\n",
            "5040: Naruto Shippuden the Movie: Blood Prison (Géneros: Thriller, Animation, Action, Comedy, Horror, Mystery) | Popularidad: 34.84 | Voto promedio: 7.313\n",
            "6051: Naruto Shippuden the Movie: The Will of Fire (Géneros: Action, Adventure, Comedy, Drama, Fantasy, Animation) | Popularidad: 32.767 | Voto promedio: 7.216\n",
            "3699: Batman: Year One (Géneros: Action, Animation, Crime) | Popularidad: 32.036 | Voto promedio: 7.282\n",
            "4648: Batman: Gotham Knight (Géneros: Science Fiction, Animation, Action, Crime, Thriller) | Popularidad: 29.809 | Voto promedio: 6.663\n",
            "876: The Lego Batman Movie (Géneros: Animation, Action, Comedy, Family) | Popularidad: 29.4 | Voto promedio: 7.222\n",
            "621: Batman Returns (Géneros: Action, Fantasy) | Popularidad: 29.261 | Voto promedio: 6.913\n",
            "6015: Naruto Shippuden the Movie: The Lost Tower (Géneros: Adventure, Action, Animation) | Popularidad: 29.174 | Voto promedio: 7.0\n",
            "5947: Naruto Shippuden the Movie: Bonds (Géneros: Fantasy, Animation, Action) | Popularidad: 29.132 | Voto promedio: 7.2\n",
            "6447: Batman: Mystery of the Batwoman (Géneros: Adventure, Fantasy, Animation, Action, Science Fiction) | Popularidad: 27.447 | Voto promedio: 6.696\n",
            "2526: Batman: Under the Red Hood (Géneros: Science Fiction, Crime, Action, Animation, Mystery) | Popularidad: 26.627 | Voto promedio: 7.75\n",
            "5769: Batman vs Teenage Mutant Ninja Turtles (Géneros: Animation, Action, Family) | Popularidad: 26.4 | Voto promedio: 7.179\n",
            "6914: Naruto the Movie: Guardians of the Crescent Moon Kingdom (Géneros: Adventure, Animation, Action) | Popularidad: 25.556 | Voto promedio: 7.076\n",
            "6662: Naruto the Movie: Legend of the Stone of Gelel (Géneros: Animation, Adventure, Fantasy) | Popularidad: 25.224 | Voto promedio: 6.554\n",
            "5413: Naruto the Movie: Ninja Clash in the Land of Snow (Géneros: Comedy, Action, Animation, Adventure) | Popularidad: 23.777 | Voto promedio: 7.24\n",
            "2534: Batman: The Dark Knight Returns, Part 1 (Géneros: Science Fiction, Action, Animation, Mystery) | Popularidad: 23.563 | Voto promedio: 7.737\n",
            "2713: Batman: The Dark Knight Returns, Part 2 (Géneros: Science Fiction, Action, Animation, Mystery) | Popularidad: 22.419 | Voto promedio: 7.93\n",
            "4733: Superman/Batman: Public Enemies (Géneros: Science Fiction, Animation, Action, Adventure, Family) | Popularidad: 21.021 | Voto promedio: 7.032\n",
            "6045: Batman: Death in the Family (Géneros: Animation, Action) | Popularidad: 20.858 | Voto promedio: 7.1\n",
            "3437: Batman: Mask of the Phantasm (Géneros: Action, Animation, Crime, Mystery) | Popularidad: 20.015 | Voto promedio: 7.486\n",
            "2255: Batman: The Killing Joke (Géneros: Action, Animation, Crime, Drama) | Popularidad: 19.782 | Voto promedio: 6.597\n",
            "7873: Batman and Superman: Battle of the Super Sons (Géneros: Animation, Action, Science Fiction) | Popularidad: 19.249 | Voto promedio: 7.697\n",
            "6009: Batman & Mr. Freeze: SubZero (Géneros: Animation, Action, Crime) | Popularidad: 18.855 | Voto promedio: 6.892\n",
            "6934: The Batman vs. Dracula (Géneros: Animation, Action, Fantasy, Mystery, Horror) | Popularidad: 17.479 | Voto promedio: 6.974\n",
            "4517: Superman/Batman: Apocalypse (Géneros: Science Fiction, Action, Adventure, Animation, Family) | Popularidad: 17.446 | Voto promedio: 7.171\n",
            "5572: Batman: The Long Halloween, Part Two (Géneros: Animation, Mystery, Action, Crime) | Popularidad: 17.002 | Voto promedio: 7.459\n",
            "3294: Batman Beyond: Return of the Joker (Géneros: Animation, Family, Action, Science Fiction) | Popularidad: 16.778 | Voto promedio: 7.306\n",
            "4951: Batman: The Long Halloween, Part One (Géneros: Animation, Mystery, Action, Crime) | Popularidad: 15.786 | Voto promedio: 7.504\n",
            "3764: Batman vs. Robin (Géneros: Science Fiction, Action, Adventure, Animation) | Popularidad: 14.093 | Voto promedio: 7.177\n",
            "8402: Scooby-Doo! & Batman: The Brave and the Bold (Géneros: Animation, Comedy, Action, Family) | Popularidad: 13.952 | Voto promedio: 7.3\n",
            "3440: Son of Batman (Géneros: Animation, Action, Adventure) | Popularidad: 13.902 | Voto promedio: 7.043\n",
            "3947: Batman: Hush (Géneros: Action, Animation, Crime, Mystery) | Popularidad: 13.657 | Voto promedio: 7.174\n",
            "3975: Batman (Géneros: Action, Comedy, Crime) | Popularidad: 13.327 | Voto promedio: 6.307\n",
            "3304: Batman: Assault on Arkham (Géneros: Thriller, Animation, Action, Crime) | Popularidad: 13.296 | Voto promedio: 7.329\n",
            "4934: Batman and Harley Quinn (Géneros: Adventure, Action, Animation, Science Fiction, Comedy) | Popularidad: 12.622 | Voto promedio: 6.116\n",
            "6897: Batman: Soul of the Dragon (Géneros: Animation, Action, Adventure, Crime, Fantasy) | Popularidad: 12.539 | Voto promedio: 6.792\n",
            "3833: Batman: Bad Blood (Géneros: Science Fiction, Action, Animation) | Popularidad: 12.121 | Voto promedio: 7.046\n",
            "4440: Batman: Gotham by Gaslight (Géneros: Thriller, Action, Animation, Science Fiction) | Popularidad: 11.864 | Voto promedio: 6.675\n",
            "10009: Batman vs. Two-Face (Géneros: Action, Animation, Comedy) | Popularidad: 10.819 | Voto promedio: 6.356\n",
            "8433: The Batman Superman Movie: World's Finest (Géneros: Action, Animation, TV Movie, Science Fiction) | Popularidad: 10.625 | Voto promedio: 7.346\n",
            "7790: Batman: Return of the Caped Crusaders (Géneros: Action, Animation, Adventure, Crime, Science Fiction) | Popularidad: 9.801 | Voto promedio: 6.461\n",
            "9399: Batman Beyond: The Movie (Géneros: Animation, Action, Family, Science Fiction, TV Movie) | Popularidad: 7.887 | Voto promedio: 7.316\n",
            "7876: Lego Batman: The Movie - DC Super Heroes Unite (Géneros: Family, Animation, Adventure, Comedy) | Popularidad: 2.56 | Voto promedio: 6.5\n",
            "\n",
            "Reseña de: Batman Begins (Géneros: Action, Crime, Drama)\n",
            "\n",
            "Reseña de: Naruto Shippuden the Movie: Blood Prison (Géneros: Thriller, Animation, Action, Comedy, Horror, Mystery)\n",
            "\n",
            "Su reseña para 'Batman Begins' fue clasificada como: positive\n",
            "\n",
            "Su reseña para 'Naruto Shippuden the Movie: Blood Prison' fue clasificada como: negative\n",
            "\n",
            "Generando recomendaciones basadas en tus películas positivas...\n",
            "\n",
            "Películas similares que podrían gustarte:\n",
            "The Dark Knight (Drama, Action, Crime, Thriller) | Popularidad: 130.643, Voto promedio: 8.512\n",
            "The Batman (Crime, Mystery, Thriller) | Popularidad: 100.817, Voto promedio: 7.705\n",
            "Batman (Fantasy, Action, Crime) | Popularidad: 40.79, Voto promedio: 7.2\n",
            "Batman: Under the Red Hood (Science Fiction, Crime, Action, Animation, Mystery) | Popularidad: 26.627, Voto promedio: 7.75\n",
            "Batman: Mask of the Phantasm (Action, Animation, Crime, Mystery) | Popularidad: 20.015, Voto promedio: 7.486\n"
          ]
        },
        {
          "output_type": "error",
          "ename": "KeyboardInterrupt",
          "evalue": "Interrupted by user",
          "traceback": [
            "\u001b[0;31m---------------------------------------------------------------------------\u001b[0m",
            "\u001b[0;31mKeyboardInterrupt\u001b[0m                         Traceback (most recent call last)",
            "\u001b[0;32m<ipython-input-45-28af659d7b03>\u001b[0m in \u001b[0;36m<cell line: 1>\u001b[0;34m()\u001b[0m\n\u001b[1;32m     34\u001b[0m             \u001b[0mprint\u001b[0m\u001b[0;34m(\u001b[0m\u001b[0;34m\"No tienes películas positivas para generar recomendaciones.\"\u001b[0m\u001b[0;34m)\u001b[0m\u001b[0;34m\u001b[0m\u001b[0;34m\u001b[0m\u001b[0m\n\u001b[1;32m     35\u001b[0m \u001b[0;34m\u001b[0m\u001b[0m\n\u001b[0;32m---> 36\u001b[0;31m         \u001b[0mdecision\u001b[0m \u001b[0;34m=\u001b[0m \u001b[0minput\u001b[0m\u001b[0;34m(\u001b[0m\u001b[0;34m\"\\n¿Desea buscar y reseñar otras películas? (s/n): \"\u001b[0m\u001b[0;34m)\u001b[0m\u001b[0;34m.\u001b[0m\u001b[0mlower\u001b[0m\u001b[0;34m(\u001b[0m\u001b[0;34m)\u001b[0m\u001b[0;34m\u001b[0m\u001b[0;34m\u001b[0m\u001b[0m\n\u001b[0m\u001b[1;32m     37\u001b[0m         \u001b[0;32mif\u001b[0m \u001b[0mdecision\u001b[0m \u001b[0;34m!=\u001b[0m \u001b[0;34m's'\u001b[0m\u001b[0;34m:\u001b[0m\u001b[0;34m\u001b[0m\u001b[0;34m\u001b[0m\u001b[0m\n\u001b[1;32m     38\u001b[0m             \u001b[0mprint\u001b[0m\u001b[0;34m(\u001b[0m\u001b[0;34m\"¡Gracias por usar nuestro sistema de recomendaciones!\"\u001b[0m\u001b[0;34m)\u001b[0m\u001b[0;34m\u001b[0m\u001b[0;34m\u001b[0m\u001b[0m\n",
            "\u001b[0;32m/usr/local/lib/python3.10/dist-packages/ipykernel/kernelbase.py\u001b[0m in \u001b[0;36mraw_input\u001b[0;34m(self, prompt)\u001b[0m\n\u001b[1;32m    849\u001b[0m                 \u001b[0;34m\"raw_input was called, but this frontend does not support input requests.\"\u001b[0m\u001b[0;34m\u001b[0m\u001b[0;34m\u001b[0m\u001b[0m\n\u001b[1;32m    850\u001b[0m             )\n\u001b[0;32m--> 851\u001b[0;31m         return self._input_request(str(prompt),\n\u001b[0m\u001b[1;32m    852\u001b[0m             \u001b[0mself\u001b[0m\u001b[0;34m.\u001b[0m\u001b[0m_parent_ident\u001b[0m\u001b[0;34m,\u001b[0m\u001b[0;34m\u001b[0m\u001b[0;34m\u001b[0m\u001b[0m\n\u001b[1;32m    853\u001b[0m             \u001b[0mself\u001b[0m\u001b[0;34m.\u001b[0m\u001b[0m_parent_header\u001b[0m\u001b[0;34m,\u001b[0m\u001b[0;34m\u001b[0m\u001b[0;34m\u001b[0m\u001b[0m\n",
            "\u001b[0;32m/usr/local/lib/python3.10/dist-packages/ipykernel/kernelbase.py\u001b[0m in \u001b[0;36m_input_request\u001b[0;34m(self, prompt, ident, parent, password)\u001b[0m\n\u001b[1;32m    893\u001b[0m             \u001b[0;32mexcept\u001b[0m \u001b[0mKeyboardInterrupt\u001b[0m\u001b[0;34m:\u001b[0m\u001b[0;34m\u001b[0m\u001b[0;34m\u001b[0m\u001b[0m\n\u001b[1;32m    894\u001b[0m                 \u001b[0;31m# re-raise KeyboardInterrupt, to truncate traceback\u001b[0m\u001b[0;34m\u001b[0m\u001b[0;34m\u001b[0m\u001b[0m\n\u001b[0;32m--> 895\u001b[0;31m                 \u001b[0;32mraise\u001b[0m \u001b[0mKeyboardInterrupt\u001b[0m\u001b[0;34m(\u001b[0m\u001b[0;34m\"Interrupted by user\"\u001b[0m\u001b[0;34m)\u001b[0m \u001b[0;32mfrom\u001b[0m \u001b[0;32mNone\u001b[0m\u001b[0;34m\u001b[0m\u001b[0;34m\u001b[0m\u001b[0m\n\u001b[0m\u001b[1;32m    896\u001b[0m             \u001b[0;32mexcept\u001b[0m \u001b[0mException\u001b[0m \u001b[0;32mas\u001b[0m \u001b[0me\u001b[0m\u001b[0;34m:\u001b[0m\u001b[0;34m\u001b[0m\u001b[0;34m\u001b[0m\u001b[0m\n\u001b[1;32m    897\u001b[0m                 \u001b[0mself\u001b[0m\u001b[0;34m.\u001b[0m\u001b[0mlog\u001b[0m\u001b[0;34m.\u001b[0m\u001b[0mwarning\u001b[0m\u001b[0;34m(\u001b[0m\u001b[0;34m\"Invalid Message:\"\u001b[0m\u001b[0;34m,\u001b[0m \u001b[0mexc_info\u001b[0m\u001b[0;34m=\u001b[0m\u001b[0;32mTrue\u001b[0m\u001b[0;34m)\u001b[0m\u001b[0;34m\u001b[0m\u001b[0;34m\u001b[0m\u001b[0m\n",
            "\u001b[0;31mKeyboardInterrupt\u001b[0m: Interrupted by user"
          ]
        }
      ],
      "source": [
        "if __name__ == \"__main__\":\n",
        "    while True:\n",
        "        reseñas = reseñar_peliculas(movies)\n",
        "\n",
        "        pelis_positivas = []\n",
        "        pelis_negativas = []\n",
        "\n",
        "        for titulo, reseña in reseñas:\n",
        "            sentimiento = predecir_reseña_NB(reseña)\n",
        "            print(f\"\\nSu reseña para '{titulo}' fue clasificada como: {sentimiento}\")\n",
        "\n",
        "            pelicula_seleccionada = movies[movies['title'].str.lower() == titulo.lower()]\n",
        "            if not pelicula_seleccionada.empty:\n",
        "                if sentimiento == \"positive\":\n",
        "                    pelis_positivas.append(pelicula_seleccionada.iloc[0])\n",
        "                else:\n",
        "                    pelis_negativas.append(pelicula_seleccionada.iloc[0])\n",
        "\n",
        "        peliculas_positivas_df = pd.DataFrame(pelis_positivas)\n",
        "        peliculas_negativas_df = pd.DataFrame(pelis_negativas)\n",
        "\n",
        "        if not peliculas_positivas_df.empty:\n",
        "            print(\"\\nGenerando recomendaciones basadas en tus películas positivas...\")\n",
        "            recomendaciones_df = recomendar_peliculas_KNN(peliculas_positivas_df, peliculas_negativas_df, movies, num_recomendaciones=5)\n",
        "\n",
        "\n",
        "            if not recomendaciones_df.empty:\n",
        "                print(\"\\nPelículas similares que podrían gustarte:\")\n",
        "                for _, row in recomendaciones_df.iterrows():\n",
        "                    print(f\"{row['title']} ({row['genres']}) | Popularidad: {row['popularity']}, Voto promedio: {row['vote_average']}\")\n",
        "            else:\n",
        "                print(\"No se encontraron películas para recomendar.\")\n",
        "        else:\n",
        "            print(\"No tienes películas positivas para generar recomendaciones.\")\n",
        "\n",
        "        decision = input(\"\\n¿Desea buscar y reseñar otras películas? (s/n): \").lower()\n",
        "        if decision != 's':\n",
        "            print(\"¡Gracias por usar nuestro sistema de recomendaciones!\")\n",
        "            break"
      ]
    },
    {
      "cell_type": "code",
      "source": [
        "from sklearn.feature_extraction.text import TfidfVectorizer\n",
        "from sklearn.neighbors import NearestNeighbors\n",
        "import pandas as pd\n",
        "import joblib\n",
        "\n",
        "def recomendar_peliculas_KNN_Tfid(peliculas_positivas, peliculas_negativas, movies, num_recomendaciones=5):\n",
        "    try:\n",
        "        vectorizador = joblib.load('vectorizador.joblib')\n",
        "        matriz_caracteristicas = joblib.load('matriz_caracteristicas.joblib')\n",
        "        knn = joblib.load('knn_model.joblib')\n",
        "    except FileNotFoundError:\n",
        "\n",
        "        movies['combined_features'] = (\n",
        "            movies['genres'].fillna('') + ' ' +\n",
        "            movies['keywords'].fillna('') + ' ' +\n",
        "            movies['overview'].fillna('')\n",
        "        )\n",
        "\n",
        "        # Vectorización\n",
        "        vectorizador = TfidfVectorizer(stop_words='english')\n",
        "        matriz_caracteristicas = vectorizador.fit_transform(movies['combined_features'])\n",
        "\n",
        "        # Guardar el vectorizador y la matriz\n",
        "        joblib.dump(vectorizador, 'vectorizador.joblib')\n",
        "        joblib.dump(matriz_caracteristicas, 'matriz_caracteristicas.joblib')\n",
        "\n",
        "        # Entrenar el modelo KNN\n",
        "        knn = NearestNeighbors(metric='cosine', n_neighbors=20, algorithm='brute')\n",
        "        knn.fit(matriz_caracteristicas)\n",
        "        joblib.dump(knn, 'knn_model.joblib')\n",
        "\n",
        "    peliculas_recomendadas = []\n",
        "\n",
        "    # Asegurarse de que las películas tengan identificadores únicos\n",
        "    movies = movies.drop_duplicates(subset='id')\n",
        "\n",
        "    # Procesar películas positivas\n",
        "    for _, pelicula in peliculas_positivas.iterrows():\n",
        "        indices_pelicula = movies[movies['id'] == pelicula['id']].index\n",
        "        if indices_pelicula.empty:\n",
        "            continue\n",
        "        indice_pelicula = indices_pelicula[0]\n",
        "        distancias, indices = knn.kneighbors(matriz_caracteristicas[indice_pelicula], n_neighbors=num_recomendaciones + 1)\n",
        "        peliculas_similares = indices.flatten()[1:]\n",
        "        peliculas_recomendadas.extend(movies.iloc[peliculas_similares].to_dict(orient='records'))\n",
        "\n",
        "    recomendaciones_df = pd.DataFrame(peliculas_recomendadas).drop_duplicates(subset='id')\n",
        "\n",
        "    # Excluir películas similares a las negativas\n",
        "    if not peliculas_negativas.empty:\n",
        "        titulos_excluidos = []\n",
        "        for _, pelicula in peliculas_negativas.iterrows():\n",
        "            indices_pelicula = movies[movies['id'] == pelicula['id']].index\n",
        "            if indices_pelicula.empty:\n",
        "                continue\n",
        "            indice_pelicula = indices_pelicula[0]\n",
        "            distancias, indices = knn.kneighbors(matriz_caracteristicas[indice_pelicula], n_neighbors=num_recomendaciones + 1)\n",
        "            peliculas_similares = indices.flatten()[1:]\n",
        "            titulos_excluidos.extend(movies.iloc[peliculas_similares]['id'].tolist())\n",
        "\n",
        "        recomendaciones_df = recomendaciones_df[~recomendaciones_df['id'].isin(titulos_excluidos)]\n",
        "\n",
        "    # Seleccionar las top N recomendaciones\n",
        "    recomendaciones_df = recomendaciones_df[['id', 'title', 'genres', 'popularity', 'vote_average']].sort_values(\n",
        "        by=['popularity', 'vote_average'], ascending=[False, False]\n",
        "    ).head(num_recomendaciones)\n",
        "\n",
        "    return recomendaciones_df"
      ],
      "metadata": {
        "id": "3bSp3_BGttSQ"
      },
      "execution_count": 38,
      "outputs": []
    }
  ],
  "metadata": {
    "colab": {
      "provenance": []
    },
    "kernelspec": {
      "display_name": "Python 3",
      "name": "python3"
    },
    "language_info": {
      "name": "python"
    }
  },
  "nbformat": 4,
  "nbformat_minor": 0
}